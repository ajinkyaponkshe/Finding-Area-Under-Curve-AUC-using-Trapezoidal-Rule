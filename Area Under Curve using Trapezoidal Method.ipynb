{
 "cells": [
  {
   "cell_type": "markdown",
   "metadata": {},
   "source": [
    " Area under curve using Trapezoidal Rule"
   ]
  },
  {
   "cell_type": "code",
   "execution_count": 1,
   "metadata": {},
   "outputs": [],
   "source": [
    "import numpy as np"
   ]
  },
  {
   "cell_type": "code",
   "execution_count": 43,
   "metadata": {},
   "outputs": [
    {
     "name": "stdout",
     "output_type": "stream",
     "text": [
      "0.5575\n"
     ]
    }
   ],
   "source": [
    "a=np.array([0.0,0.2,0.33,0.43,0.63,0.66,1.0])\n",
    "b=np.array([0.0,0.25,0.25,0.50,0.50,1.0,1.0])\n",
    "# intilizing area =0 is imporant if not assigned outpot is 0.33 which is wrong, and actual output is 0.5575\n",
    "area=0\n",
    "for i in range (len (a)-1):\n",
    "    difx=abs(a[i]-a[i+1])\n",
    "    sumy=(b[i]+b[i+1])/2\n",
    "    area=area+(sumy*difx)\n",
    "\n",
    "print(area)"
   ]
  },
  {
   "cell_type": "markdown",
   "metadata": {},
   "source": [
    "Function for Function for Area under curve using Trapezoidal Rule"
   ]
  },
  {
   "cell_type": "code",
   "execution_count": 44,
   "metadata": {},
   "outputs": [],
   "source": [
    "def auc(X,Y):\n",
    "    area=0\n",
    "    for i in range (len (a)-1):\n",
    "        difx=abs(a[i]-a[i+1])\n",
    "        sumy=(b[i]+b[i+1])/2\n",
    "        area=area+(sumy*difx)\n",
    "    return area\n"
   ]
  },
  {
   "cell_type": "code",
   "execution_count": 45,
   "metadata": {},
   "outputs": [
    {
     "data": {
      "text/plain": [
       "0.5575"
      ]
     },
     "execution_count": 45,
     "metadata": {},
     "output_type": "execute_result"
    }
   ],
   "source": [
    "auc([0.0,0.2,0.33,0.43,0.63,0.66,1.0],[0.0,0.25,0.25,0.50,0.50,1.0,1.0])"
   ]
  },
  {
   "cell_type": "code",
   "execution_count": null,
   "metadata": {},
   "outputs": [],
   "source": []
  }
 ],
 "metadata": {
  "kernelspec": {
   "display_name": "Python 3",
   "language": "python",
   "name": "python3"
  },
  "language_info": {
   "codemirror_mode": {
    "name": "ipython",
    "version": 3
   },
   "file_extension": ".py",
   "mimetype": "text/x-python",
   "name": "python",
   "nbconvert_exporter": "python",
   "pygments_lexer": "ipython3",
   "version": "3.7.3"
  }
 },
 "nbformat": 4,
 "nbformat_minor": 2
}
